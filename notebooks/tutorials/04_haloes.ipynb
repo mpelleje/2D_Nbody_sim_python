{
 "cells": [
  {
   "cell_type": "markdown",
   "id": "9f7fc059",
   "metadata": {},
   "source": [
    "## Introduction\n",
    "\n",
    "Now you have learnt how to make $N$-body simulations, we can start to find DM halos from the particles. And the most commonly used method for this is called the friends-of-friends (fof) algorithm. The idea is quite simple: if a DM particle $A$ is close enough to any other particles belong to a DM halo $B$, then particle $A$ belongs to halo $B$. You can read more about the friends of friends algorithm at e.g. here: https://swift.dur.ac.uk/docs/FriendsOfFriends/algorithm_description.html\n",
    "\n",
    "### Goals:\n",
    "* Run a friends of friends algorithm on a simulation\n",
    "* Plot particles that are in haloes\n",
    "* Plot a halo mass function\n",
    "* Plot displacement fields in Lagrangian space\n",
    "* Plot halo particles in Lagrangian space"
   ]
  },
  {
   "cell_type": "code",
   "execution_count": null,
   "id": "c3c8d218",
   "metadata": {},
   "outputs": [],
   "source": [
    "### Run the following lines in your terminal to install the pyfof package\n",
    "# git clone https://github.com/simongibbons/pyfof\n",
    "# cd pyfof/\n",
    "# pip install --use-pep517 ."
   ]
  },
  {
   "cell_type": "code",
   "execution_count": null,
   "id": "0432c24f",
   "metadata": {},
   "outputs": [],
   "source": [
    "%matplotlib inline\n",
    "\n",
    "import numpy as np\n",
    "import matplotlib.pyplot as plt\n",
    "\n",
    "import sys\n",
    "sys.path.append(\"../../../\")\n",
    "\n",
    "import sheet_unfolding.sim as sim\n",
    "from matplotlib.colors import LogNorm\n",
    "\n",
    "import pyfof "
   ]
  },
  {
   "cell_type": "markdown",
   "id": "172dbf95",
   "metadata": {},
   "source": [
    "## Run a simulation\n",
    "\n",
    "First, we need to get the particle distribution by running a simulation. The code you have worked on in the last notebook is implemented in `sim.CosmologicalSimulation2d` so we don't need to write it here again."
   ]
  },
  {
   "cell_type": "code",
   "execution_count": null,
   "id": "9927d56d",
   "metadata": {},
   "outputs": [],
   "source": [
    "myic = sim.ic.IC2DCosmo(512, L=100., rs=1.5, sigma8=2.)\n",
    "\n",
    "mysim = sim.CosmologicalSimulation2d(myic, aic=0.02, dafac_max=0.05, da_max=0.02, ngrid_pm=128)\n",
    "\n",
    "mysim.integrate_till(1.)"
   ]
  },
  {
   "cell_type": "code",
   "execution_count": null,
   "id": "9fdfe0e0",
   "metadata": {},
   "outputs": [],
   "source": [
    "rho = sim.sim.deposit2d(mysim.pos, 128, myic.L, mode=\"cic\")\n",
    "plt.imshow(np.clip(rho / np.mean(rho), 1e-2, None).T, origin=\"lower\", norm = LogNorm(vmin=1e-2, vmax=1e2), extent=[0,100.,0.,100.])\n",
    "plt.title(\"a = %g\" % mysim.a)\n",
    "plt.xlabel(r\"$x$ [Mpc/$h$]\", fontsize=14)\n",
    "plt.ylabel(r\"$y$ [Mpc/$h$]\", fontsize=14)"
   ]
  },
  {
   "cell_type": "markdown",
   "id": "cd5cf80b",
   "metadata": {},
   "source": [
    "## Find halos with fof\n",
    "\n",
    "Now we need to find friends of friends groups with a linking length of 0.2 mean particle separations. Discard all groups which have less than 20 members. Then **make a density plot of particles that are in a group with N>=20 members, and compare it with the density plot of all particles.**\n",
    "\n",
    "Note: What we are doing here is not exactly correct, because we are neglecting the periodic boundary conditions. However, let's keep it simple for now ;)"
   ]
  },
  {
   "cell_type": "code",
   "execution_count": null,
   "id": "ddece71f",
   "metadata": {},
   "outputs": [],
   "source": [
    "linking_length = 0.2*np.sqrt(np.mean(100.**2/512.**2))\n",
    "print(linking_length)"
   ]
  },
  {
   "cell_type": "code",
   "execution_count": null,
   "id": "57e5b3f4",
   "metadata": {},
   "outputs": [],
   "source": [
    "res = pyfof.friends_of_friends(mysim.pos.reshape(-1,2), linking_length)"
   ]
  },
  {
   "cell_type": "code",
   "execution_count": null,
   "id": "fe1a24b1",
   "metadata": {},
   "outputs": [],
   "source": []
  },
  {
   "cell_type": "markdown",
   "id": "1699e985",
   "metadata": {},
   "source": [
    "### Target Output\n",
    "![title](solutions/img/haloes_versus_particles.png)"
   ]
  },
  {
   "cell_type": "markdown",
   "id": "c0edbd33",
   "metadata": {},
   "source": [
    "# Plot the halo mass function\n",
    "\n",
    "Plot the fof halo mass function. I.e. the number of objects with a given mass (through a histogram). The mass of a fof-group equals the sum of the masses of the particles in the group. Since all particles have equal mass, you can just multiply the length of the group by the particle mass $m_0$."
   ]
  },
  {
   "cell_type": "code",
   "execution_count": null,
   "id": "dcd6e756",
   "metadata": {},
   "outputs": [],
   "source": [
    "m0 = mysim.mass[0,0]\n",
    "print(m0) # in the unit of M_sun"
   ]
  },
  {
   "cell_type": "code",
   "execution_count": null,
   "id": "4cc23981",
   "metadata": {},
   "outputs": [],
   "source": []
  },
  {
   "cell_type": "markdown",
   "id": "a5d583f9",
   "metadata": {},
   "source": [
    "### Target Output\n",
    "![title](solutions/img/haloes_massfunction.png)"
   ]
  },
  {
   "cell_type": "markdown",
   "id": "f45253e4",
   "metadata": {},
   "source": [
    "## Lagrangian space\n",
    "\n",
    "Now that you know how to run a simulation, let's explore a bit about seeing the simulation results from a new perspective -- in the Lagrangian space! \n",
    "\n",
    "Lagrangian space is basically the space of the initial locations of particles. We started with all particles on a grid (myic.qi[...,0:2]). Since we kept all particles in the same order (i.e. if the initial location of particle $A$ is stored at `myic.qi[i,j]`, then its final location is stored in `mysim.pos[i,j]`), making a Lagrangian plot can be as simple as an plt.imshow(myparticleproperty, ...)\n",
    "\n",
    "Let's plot the displacement field in Lagrangian space. The displacement field  $\\vec{s}$ describes how much a particle moved from its initial location and it is defined so that\n",
    "\\begin{align}\n",
    "\\vec{x}(\\vec{q}) = \\vec{q} + \\vec{s}(\\vec{q})\n",
    "\\end{align}\n",
    "\n",
    "where $\\vec{x}$ are the particle positions and $\\vec{q}$ their Lagrangian (initial coordinates). Therefore in principle $\\vec{s} = \\vec{x} - \\vec{q}$. However, since we always wrap particle positions periodically between $[0,L]$, you have to undo the periodic wrapping. You can do this by subtracting/adding $L$ so that $\\vec{s}$ lies in $[-L/2, L/2]$.\n",
    "\n",
    "Make a plot of each, the x and y components, of the $\\vec{s}$. Further, put a quiver plot on top to indicate the displacement by arrows (To avoid overcrowding the image, in the quiver plot only show the displacement for every 16th particle)."
   ]
  },
  {
   "cell_type": "code",
   "execution_count": null,
   "id": "77f7fd8b",
   "metadata": {},
   "outputs": [],
   "source": [
    "L = 100.\n",
    "disp = (((mysim.pos - myic.qi) + L/2.) % L) - L/2."
   ]
  },
  {
   "cell_type": "code",
   "execution_count": null,
   "id": "9e62fd6e",
   "metadata": {},
   "outputs": [],
   "source": []
  },
  {
   "cell_type": "markdown",
   "id": "95a68fa2",
   "metadata": {},
   "source": [
    "### Target Output\n",
    "![title](solutions/img/haloes_lagrangian_displacement.png)"
   ]
  },
  {
   "cell_type": "markdown",
   "id": "f3d2168c",
   "metadata": {},
   "source": [
    "## Lagrangian space haloes\n",
    "\n",
    "You have seen the DM haloes in Euclidean space, now let's have a look at the Lagrangian space haloes, which basically gives you the info about which group of particles at the initial condition ends up being in the same haloes. \n",
    "\n",
    "### Task\n",
    "Plot the halo index in Lagrangian space, so that different haloes will have different colors. Also plot the displacement field on top as a quiver plot. To get the halo index in Lagrangian space, you will have to mark each particle by the halo index it is part of. For this you will have to rearange a bit the information that you got from the output of pyfof."
   ]
  },
  {
   "cell_type": "code",
   "execution_count": null,
   "id": "e4d5b90b",
   "metadata": {},
   "outputs": [],
   "source": []
  },
  {
   "cell_type": "markdown",
   "id": "133437f7",
   "metadata": {},
   "source": [
    "### Target Output\n",
    "![title](solutions/img/haloes_lagrangian_protohaloes.png)"
   ]
  },
  {
   "cell_type": "code",
   "execution_count": null,
   "id": "ffb9ccb4",
   "metadata": {},
   "outputs": [],
   "source": []
  }
 ],
 "metadata": {
  "kernelspec": {
   "display_name": "Python 3",
   "language": "python",
   "name": "python3"
  },
  "language_info": {
   "codemirror_mode": {
    "name": "ipython",
    "version": 3
   },
   "file_extension": ".py",
   "mimetype": "text/x-python",
   "name": "python",
   "nbconvert_exporter": "python",
   "pygments_lexer": "ipython3",
   "version": "3.9.16"
  }
 },
 "nbformat": 4,
 "nbformat_minor": 5
}
