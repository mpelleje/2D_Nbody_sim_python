{
 "cells": [
  {
   "cell_type": "markdown",
   "id": "c84181d8",
   "metadata": {},
   "source": [
    "# Goal:\n",
    "* Understand Fourier Transformations\n",
    "* Learn to calculate Power Spectrum\n",
    "* Learn to calculate Potential and Force-field\n",
    "* Learn how to get from linear field to Zel'dovich"
   ]
  },
  {
   "cell_type": "code",
   "execution_count": null,
   "id": "486d7336",
   "metadata": {
    "tags": []
   },
   "outputs": [],
   "source": [
    "%matplotlib inline\n",
    "\n",
    "import numpy as np \n",
    "import matplotlib.pyplot as plt\n",
    "\n",
    "import sys\n",
    "sys.path.append(\"../../../lib\")\n",
    "\n",
    "import sheet_unfolding.sim as sim\n",
    "\n",
    "from matplotlib.colors import LogNorm"
   ]
  },
  {
   "cell_type": "code",
   "execution_count": null,
   "id": "c50ae6f6",
   "metadata": {
    "tags": []
   },
   "outputs": [],
   "source": [
    "def get_kmesh(npix, L, real=False):\n",
    "    \"\"\" construct a uniform mesh of kvectors (for usage with np.fft.fftn)\n",
    "\n",
    "    Parameters:\n",
    "    ----------\n",
    "    npix : sequence of integer\n",
    "        Number of pixels in each dimension\n",
    "    L :  float\n",
    "        Size of the domain (in real space) - typically the boxsize\n",
    "    real : bool\n",
    "        Set to true for usage with np.fft.rfftn\n",
    "\n",
    "    Returns:\n",
    "    ----------\n",
    "    knd : (npix[0], npix[1], ..., len(npix)) array of k-vectors\n",
    "\n",
    "    Example:\n",
    "    ----------\n",
    "    k = get_kmesh((128,128,128), 10., real=False)\n",
    "    => (128,128,128,3) array\n",
    "    \"\"\"\n",
    "\n",
    "    ndim = len(npix)\n",
    "\n",
    "    L = np.ones_like(npix) * L\n",
    "\n",
    "    k1d = []\n",
    "    for i in range(0, ndim):\n",
    "        if (i == ndim-1) & real:  # last dim can have different shape in real fft\n",
    "            k1d.append(np.fft.fftfreq(npix[i])[0:(npix[i]//2)+1] * (2*np.pi * npix[i]) / L[i])\n",
    "        else:\n",
    "            k1d.append(np.fft.fftfreq(npix[i]) * (2*np.pi * npix[i]) / L[i])\n",
    "\n",
    "    knd  = np.array(np.meshgrid(*k1d, indexing='ij')).astype(\"f4\")\n",
    "    knd  = np.rollaxis(knd, 0, ndim+1)  # bring into shape [npix,npix,...,ndim]\n",
    "\n",
    "    return knd"
   ]
  },
  {
   "cell_type": "markdown",
   "id": "4c0dde65",
   "metadata": {},
   "source": [
    "# Calculate the Power Spectrum\n",
    "\n",
    "\n",
    "\\begin{align}\n",
    "  P(k) = \\langle |\\delta(|\\vec{k}|)|^2 \\rangle\n",
    "\\end{align}\n",
    "\n",
    "\\begin{align}\n",
    "  \\vec{k}_{i}, \\delta_{k,i}\n",
    "\\end{align}\n",
    "\n",
    "and the dimensionless one\n",
    "\n",
    "\\begin{align}\n",
    "  D(k) = P(k) k^2 / (2 \\pi)\n",
    "\\end{align}\n",
    "\n",
    "(note that this relation (2D) is different in 3 dimensions)\n",
    "\n",
    "To get the correct normalisation you will need to consider that the discrete Fourier transform (DFT) uses a different normalisation. To convert them you need\n",
    "\n",
    "\\begin{align}\n",
    "  \\delta_k = \\delta_{k, DFT} \\frac{\\sqrt{L}^d}{N^d}\n",
    "\\end{align}\n",
    "where $d = 2$ is the dimension\n",
    "\n",
    "for the linear spectrum, you can use sim.ic.power_eisenstein_smoothed_2d, but you will have to renormalize it correctly (with sim.ic.get_sigmaR)"
   ]
  },
  {
   "cell_type": "code",
   "execution_count": null,
   "id": "fb8f4150",
   "metadata": {
    "tags": []
   },
   "outputs": [],
   "source": [
    "L = 400.\n",
    "\n",
    "bins = np.linspace(0., 512*np.pi/L,100)\n",
    "ki = 0.5*(bins[1:] + bins[:-1])\n",
    "\n",
    "fig, axs = plt.subplots(2,1, figsize=(4,7))\n",
    "\n",
    "for rs in (0.1, 0.5,1., 3.):\n",
    "    myic = sim.ic.IC2DCosmo(512, L=L, rs=rs, Omega_m=1.)\n",
    "    delta = myic.get_delta(a=1.)\n",
    "    \n",
    "    deltak =  np.fft.fft2(delta) / np.prod(delta.shape) * L\n",
    "    \n",
    "    kvec = get_kmesh((512,512), L)\n",
    "    kabs = np.sqrt(np.sum(kvec**2, axis=-1))\n",
    "    \n",
    "    # Fill in code to calculate and plot power spectrum here: \n",
    "    # You'll need to average modes in each k-bin <---\n",
    "    \n",
    "    \n",
    "    \n",
    "    # --->\n",
    "    \n",
    "norm = 0.8/sim.ic.get_sigmaR(8.)\n",
    "axs[0].loglog(ki, norm**2*sim.ic.power_eisenstein_smoothed_2d(ki, dimless=False), ls=\"dashed\", color=\"black\", label=\"linear spectrum\")\n",
    "axs[1].loglog(ki, norm**2*sim.ic.power_eisenstein_smoothed_2d(ki, dimless=True), ls=\"dashed\", color=\"black\", label=\"linear spectrum\")\n",
    "\n",
    "axs[0].set_ylim(1e-1,1e3)\n",
    "axs[1].set_ylim(1e-3,1e4)\n",
    "\n",
    "for ax in axs:\n",
    "    ax.grid()\n",
    "    ax.legend()\n",
    "    ax.set_xlim(5e-2, None)\n",
    "axs[1].set_xlabel(r\"$k$ [$h$ Mpc$^{-1}$]\")\n",
    "axs[0].set_ylabel(r\"$P(k)$ [Mpc$^{2} h^{-2}$]\")\n",
    "axs[1].set_ylabel(r\"$\\Delta^2 (k)$\")"
   ]
  },
  {
   "cell_type": "markdown",
   "id": "b44125f9",
   "metadata": {},
   "source": [
    "### Target Output\n",
    "![title](solutions/img/power_spectrum.png)"
   ]
  },
  {
   "cell_type": "markdown",
   "id": "44a33827",
   "metadata": {},
   "source": [
    "# Calculating the Potential\n",
    "## Poisson's equation:\n",
    "\\begin{align}\n",
    "   \\nabla^2 \\phi = 4 \\pi G \\delta \\\\\n",
    "            \\vec{a} = - \\nabla \\phi\n",
    "\\end{align}\n",
    "in Fourier Space\n",
    "\\begin{align}\n",
    "   \\phi_k = - \\frac{4 \\pi G \\delta_k}{k^2} \\\\\n",
    "            \\vec{a_k} = - i \\vec{k} \\phi_k\n",
    "\\end{align}\n",
    "\n",
    "that means I can calculate $\\phi$ and $a$ in real space by doing:\n",
    "\\begin{align}\n",
    "   \\phi = -4 \\pi G \\cdot \\rm{IFFT}\\left(\\frac{\\rm{FFT}(\\delta)}{k^2}\\right)\n",
    "\\end{align}\n",
    "\n",
    "## Finite differences:\n",
    "\\begin{align}\n",
    "   f'(x) \\approx \\frac{f(x+h) - f(x-h)}{2 h}\n",
    "\\end{align}\n",
    "\n",
    "\n",
    "## Task:\n",
    "* Calculate Potential Field in real space\n",
    "* Calculate Acceleration Field (just the x-component) in real space\n",
    "    - through Fourier Space\n",
    "    - through finite differences on $\\phi$\n",
    "\n",
    "## Some Notes:\n",
    "Just use $r_s = 0.1$ for this task. Assume $G=1$. You can set phi_k[0,0] explicitly to 0 to avoid problems with zero divisions. IFFT will return complex numbers with complex part = 0, but you can just cast them to real ones with np.real. Because of the numpy broadcasting rules (https://numpy.org/doc/stable/user/basics.broadcasting.html) you may have to do something like this to multiply a field by a vector field: phik[...,np.newaxis] * kvec"
   ]
  },
  {
   "cell_type": "code",
   "execution_count": null,
   "id": "a75ad7cd",
   "metadata": {
    "tags": []
   },
   "outputs": [],
   "source": []
  },
  {
   "cell_type": "markdown",
   "id": "8d55b22e",
   "metadata": {},
   "source": [
    "### Target Output\n",
    "![title](solutions/img/force_calculation.png)"
   ]
  },
  {
   "cell_type": "code",
   "execution_count": null,
   "id": "716cc5e4",
   "metadata": {},
   "outputs": [],
   "source": []
  }
 ],
 "metadata": {
  "kernelspec": {
   "display_name": "Python 3",
   "language": "python",
   "name": "python3"
  },
  "language_info": {
   "codemirror_mode": {
    "name": "ipython",
    "version": 3
   },
   "file_extension": ".py",
   "mimetype": "text/x-python",
   "name": "python",
   "nbconvert_exporter": "python",
   "pygments_lexer": "ipython3",
   "version": "3.9.16"
  }
 },
 "nbformat": 4,
 "nbformat_minor": 5
}
