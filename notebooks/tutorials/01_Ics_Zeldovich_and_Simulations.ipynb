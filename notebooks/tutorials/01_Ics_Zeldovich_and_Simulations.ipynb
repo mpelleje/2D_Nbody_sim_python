{
 "cells": [
  {
   "cell_type": "code",
   "execution_count": 1,
   "id": "152ab3a5",
   "metadata": {
    "tags": []
   },
   "outputs": [],
   "source": [
    "%matplotlib inline\n",
    "\n",
    "import numpy as np\n",
    "import matplotlib.pyplot as plt\n",
    "\n",
    "import sheet_unfolding.sim as sim\n",
    "\n",
    "from matplotlib.colors import LogNorm"
   ]
  },
  {
   "cell_type": "markdown",
   "id": "8bd55424",
   "metadata": {},
   "source": [
    "# Plot The linear Density Field of the Initial Conditions with Different Smoothing Scales\n",
    "\n",
    "To get the same plot, use L=100., a=0.01, sigma8=0.8\n",
    "\n",
    "and different for evaluating the density field different rs in 5.,2.,1.\n",
    "\n",
    "* relevant classes: sim.ic.IC2DCosmo\n",
    "* relevant functions: sim.ic.IC2DCosmo.get_delta()"
   ]
  },
  {
   "cell_type": "code",
   "execution_count": null,
   "id": "b878ffc2",
   "metadata": {},
   "outputs": [],
   "source": []
  },
  {
   "cell_type": "markdown",
   "id": "8c970a9b",
   "metadata": {},
   "source": [
    "### Example output:\n",
    "![title](solutions//img/Ics.png)"
   ]
  },
  {
   "cell_type": "markdown",
   "id": "480f345c",
   "metadata": {},
   "source": [
    "# Plot The linear density field in comparison to the Zel'dovich approximation at different times\n",
    "\n",
    "To get the same plot, use L=100., sigma8=0.8, rs=0.5\n",
    "\n",
    "\n",
    "* relevant classes: sim.ic.IC2DCosmo\n",
    "* relevant functions: sim.ic.IC2DCosmo.get_x()\n",
    "\n",
    "To not over-crowd the image, plot only every 4th particle and only a smaller region\n",
    "\n",
    "if you use plt.imshow, watch out to transpose the image correctly!"
   ]
  },
  {
   "cell_type": "code",
   "execution_count": null,
   "id": "d8fc830d",
   "metadata": {
    "tags": []
   },
   "outputs": [],
   "source": []
  },
  {
   "cell_type": "markdown",
   "id": "fe10794d",
   "metadata": {},
   "source": [
    "### Example output:\n",
    "![title](solutions/img/Ics_ZA.png)"
   ]
  },
  {
   "cell_type": "markdown",
   "id": "01d7022d",
   "metadata": {},
   "source": [
    "# Use a histogram to \"visualize\" the non-linear density field"
   ]
  },
  {
   "cell_type": "code",
   "execution_count": null,
   "id": "c394d8e7",
   "metadata": {
    "tags": []
   },
   "outputs": [],
   "source": []
  },
  {
   "cell_type": "markdown",
   "id": "cfdf17cf",
   "metadata": {},
   "source": [
    "### Example output:\n",
    "![title](solutions/img/IC_ZA_dens.png)"
   ]
  },
  {
   "cell_type": "markdown",
   "id": "386d2d35",
   "metadata": {},
   "source": [
    "# Add another row to the plot, showing the actual non-linear density field from a simulation in the same region\n",
    "Look at my2dsim.ipynb to see how to run a simulation!\n",
    "\n",
    "tip: sim.PM2DPotentialField.deposit gives a bit more accurate way of getting densities than a histogram\n",
    "\n",
    "it is called a CIC (clouds-in-cells) assignment\n",
    "\n",
    "(No solution provided)"
   ]
  },
  {
   "cell_type": "code",
   "execution_count": null,
   "id": "826f5230",
   "metadata": {},
   "outputs": [],
   "source": []
  }
 ],
 "metadata": {
  "kernelspec": {
   "display_name": "Python 3",
   "language": "python",
   "name": "python3"
  },
  "language_info": {
   "codemirror_mode": {
    "name": "ipython",
    "version": 3
   },
   "file_extension": ".py",
   "mimetype": "text/x-python",
   "name": "python",
   "nbconvert_exporter": "python",
   "pygments_lexer": "ipython3",
   "version": "3.9.16"
  }
 },
 "nbformat": 4,
 "nbformat_minor": 5
}
