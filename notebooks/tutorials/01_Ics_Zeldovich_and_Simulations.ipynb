{
 "cells": [
  {
   "cell_type": "markdown",
   "id": "d83959fb",
   "metadata": {},
   "source": [
    "### Introduction\n",
    "Now you have learned the concept of **Zel'dovich approximation**, which is stating that the displacement field $\\Psi(\\bold{q})$ at linear order at **any redshifts** can be approximated once you know the initial potential field. \n",
    "\n",
    "You might be thinking, that sounds too good to be true. The motion of particles should be determined by the distribution of matter and the velocity of particles at that instant. And both the matter distribution and the velocity are ever changing so you need to carry out the simulation step by step. How is it possible to know the displacement of particles from $z=99$ to $z=0$ **in one step** only given the matter distribution at $z=99$? Good spirit! As a researcher, you need to be sceptical. But in this notebook, you will find it out yourself that sometimes nature can be as magical as the Zel'dovich approximation.\n",
    "\n",
    "### Setup\n",
    "We will work with a code, `sheet_unfolding`, for 2d simulations as this can help you to master the key concepts for running simulations and greatly reduce the computation time. The code is only well implemented for EdS universe, so we will keep $\\Omega_\\mathrm{m}=1,\\Omega_{\\Lambda}=0$.\n",
    "\n",
    "### Steps\n",
    "* Get the initial condition\n",
    "* Get the matter distribution at given redshifts using the Zel'dovich approximation\n",
    "* Run a real simulation with the same initial condition, compare the results with those from Zel'dovich approximation"
   ]
  },
  {
   "cell_type": "code",
   "execution_count": 2,
   "id": "bed675b4",
   "metadata": {},
   "outputs": [],
   "source": [
    "%matplotlib inline\n",
    "\n",
    "import numpy as np\n",
    "import matplotlib.pyplot as plt\n",
    "\n",
    "import sys\n",
    "sys.path.append(\"../../\")\n",
    "import sheet_unfolding.sim as sim\n",
    " \n",
    "from matplotlib.colors import LogNorm"
   ]
  },
  {
   "cell_type": "markdown",
   "id": "8bd55424",
   "metadata": {},
   "source": [
    "## Initial condition\n",
    "\n",
    "First, let's have a look at the initial conditions. We will need to use the class `IC2DCosmo` defined in \"sheet_unfolding/sim/ic.py\" to generate the initial condition. You should go to the definition of the class to have an idea about what it does and how to use it.\n",
    "\n",
    "To get the same plot, use L=100., a=0.01, sigma8=0.8, use 3 different smoothing scale rs=5,2,1, and use the \"get_delta\" function to get the overdensity distribution. Plot the overdensity using the 'imshow' function, compare your result with others!\n",
    "\n",
    "* relevant classes: `sim.ic.IC2DCosmo`\n",
    "* relevant functions: `sim.ic.IC2DCosmo.get_delta()`"
   ]
  },
  {
   "cell_type": "code",
   "execution_count": 2,
   "id": "b878ffc2",
   "metadata": {},
   "outputs": [],
   "source": [
    "# your codes\n"
   ]
  },
  {
   "cell_type": "markdown",
   "id": "8c970a9b",
   "metadata": {},
   "source": [
    "### Example output:\n",
    "![title](solutions//img/Ics.png)"
   ]
  },
  {
   "cell_type": "markdown",
   "id": "480f345c",
   "metadata": {},
   "source": [
    "## Zel'dovich approximation \n",
    "\n",
    "In this subsection, we will get the particle position given the initial condition using the Zel'dovich approximation. And we will compare the matter distribution with the linear overdensity field $\\delta_{\\mathrm{L}}(a)$ defined by\n",
    "$$\\delta_{\\mathrm{L}}(a)=\\delta_{\\mathrm{L}}(a=0.01)\\times\\frac{D(a)}{D(a=0.01)},$$\n",
    "where $D(a)$ is the growth factor.\n",
    "\n",
    "To get the same plots, use L=100., sigma8=0.8, rs=0.5. Get the results for $a=0.02,0.2,0.5,1$ \n",
    "\n",
    "\n",
    "* relevant classes: `sim.ic.IC2DCosmo`\n",
    "* relevant functions: `sim.ic.IC2DCosmo.get_delta()`,`sim.ic.IC2DCosmo.get_x()`\n",
    "\n",
    "To not over-crowd the image, plot only every 4th particle and specify the marker size by `s=0.5`.\n",
    "\n",
    "If you use plt.imshow, watch out to transpose the image correctly!"
   ]
  },
  {
   "cell_type": "code",
   "execution_count": null,
   "id": "d8fc830d",
   "metadata": {
    "tags": []
   },
   "outputs": [],
   "source": [
    "# your codes\n"
   ]
  },
  {
   "cell_type": "markdown",
   "id": "fe10794d",
   "metadata": {},
   "source": [
    "### Example output:\n",
    "![title](solutions/img/Ics_ZA.png)"
   ]
  },
  {
   "cell_type": "markdown",
   "id": "01d7022d",
   "metadata": {},
   "source": [
    "Now, We will compare the **linear overdensity field** $\\delta_{\\mathrm{L}}(a)$ with the overdensity field $\\delta_{\\mathrm{Z}}(a)$ calculated from the results of Zel'dovich approximation. $\\delta_{\\mathrm{Z}}(a)$ can be calculated by dividing the 2d plane into 2d grids, let's say the number of particle in the $i_{\\mathrm{th}}$ grid cell is $n_i$, then the $\\delta_{\\mathrm{Z}}(a)$ for the $i_{\\mathrm{th}}$ grid cell is\n",
    "$$\\delta_{\\mathrm{Z}}(a)=\\frac{n_i-\\bar{n}}{\\bar{n}}.$$\n",
    "\n",
    "* relevant functions: `np.histogram2d()`"
   ]
  },
  {
   "cell_type": "code",
   "execution_count": 3,
   "id": "c394d8e7",
   "metadata": {
    "tags": []
   },
   "outputs": [],
   "source": [
    "# your codes\n"
   ]
  },
  {
   "cell_type": "markdown",
   "id": "cfdf17cf",
   "metadata": {},
   "source": [
    "### Example output:\n",
    "![title](solutions/img/IC_ZA_dens.png)"
   ]
  },
  {
   "cell_type": "markdown",
   "id": "386d2d35",
   "metadata": {},
   "source": [
    "## Compare with a real simulation\n",
    "\n",
    "The goal of this subsection is to see how similar the LSS derived from real simulations and from Zel'dovich approximations can be. We will explore how to run a simulation later. For now, you only need to know the following codes can give you the position of particles from a real simulation.\n",
    "```\n",
    "aini = 0.02\n",
    "L = 100.\n",
    "myic = sim.ic.IC2DCosmo(512,seed=42, L=L,rs=0.5,  Omega_m=1.)\n",
    "mysim = sim.CosmologicalSimulation2d(myic, aic=aini, ngrid_pm=512, verbose=0)\n",
    "mysim.integrate_till(a)\n",
    "pos_x = mysim.pos[...,0]\n",
    "pos_y = mysim.pos[...,1]\n",
    "```"
   ]
  },
  {
   "cell_type": "code",
   "execution_count": 4,
   "id": "826f5230",
   "metadata": {},
   "outputs": [],
   "source": [
    "# your codes\n"
   ]
  },
  {
   "cell_type": "markdown",
   "id": "9cbd23c3",
   "metadata": {},
   "source": [
    "### Example output:\n",
    "![title](solutions/img/IC_ZA_SIM.png)"
   ]
  },
  {
   "cell_type": "markdown",
   "id": "a2a814a3",
   "metadata": {},
   "source": [
    "## Open questions\n",
    "\n",
    "\n",
    "Now you can see that the Zel'dovich approximation can recover the evolution of large-scale structures quite well with very simple info -- the initial potential field. Although you can also see that the on small scale, the Zel'dovich approximation seems giving a thicker filament structure than the 'real' simulation. Why is that? Also, there seems to be something weird in both the Zel'dovich approximation and the 'real' simulation: in the Zel'dovich approximation it has this grid like points and in the real simulation the points seems forming a line in the void region. What is causing this?"
   ]
  },
  {
   "cell_type": "code",
   "execution_count": null,
   "id": "66d465b9",
   "metadata": {},
   "outputs": [],
   "source": []
  }
 ],
 "metadata": {
  "kernelspec": {
   "display_name": "Python 3",
   "language": "python",
   "name": "python3"
  },
  "language_info": {
   "codemirror_mode": {
    "name": "ipython",
    "version": 3
   },
   "file_extension": ".py",
   "mimetype": "text/x-python",
   "name": "python",
   "nbconvert_exporter": "python",
   "pygments_lexer": "ipython3",
   "version": "3.11.13"
  }
 },
 "nbformat": 4,
 "nbformat_minor": 5
}
