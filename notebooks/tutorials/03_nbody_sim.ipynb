{
 "cells": [
  {
   "cell_type": "markdown",
   "id": "2e08bbe1",
   "metadata": {},
   "source": [
    "### Introduction\n",
    "The goal of this notebook is to learn how to run a cosmological N-body simulation. If you take a moment to think about it, the idea is quite straightforward:\n",
    "\n",
    "1. Start with the initial conditions $[\\vec{x_i},\\vec{v_i},m_i]$ for each particle.\n",
    "2. Compute the gravitational force acting on each particle.\n",
    "3. Choose an appropriate time step and update $[\\vec{x_i},\\vec{v_i}]$ for each particle using the equations of motion.\n",
    "4. Repeat steps 2 and 3 until the desired epoch is reached.\n",
    "\n",
    "From the lectures, you’ve learned that there are several methods for calculating gravitational forces, such as tree codes and particle-mesh methods. In the previous notebook, you mastered how to compute the force field by obtaining the potential in Fourier space using mesh cells. So in this notebook, we will adopt the particle-mesh method for force calculation."
   ]
  },
  {
   "cell_type": "code",
   "execution_count": 3,
   "id": "2af306b0",
   "metadata": {},
   "outputs": [],
   "source": [
    "%matplotlib inline\n",
    "\n",
    "import numpy as np\n",
    "import matplotlib.pyplot as plt\n",
    "\n",
    "import sys\n",
    "sys.path.append(\"../../\")\n",
    "\n",
    "import sheet_unfolding.sim as sim\n",
    "from matplotlib.colors import LogNorm"
   ]
  },
  {
   "cell_type": "markdown",
   "id": "44c497c3",
   "metadata": {},
   "source": [
    "## CIC for Density Estimation\n",
    "\n",
    "In the last notebook, we skipped the density estimation step by using the linear density field, which is a built-in function in `sim.ic.IC2DCosmo()`. In the first notebook, we actually calculated the density by simply counting the number of particles in each cell. This method is known as the particle-in-cell (PIC) or nearest grid point (NGP) method for density estimation. It is simple, fast, and has been widely used in research.\n",
    "\n",
    "However, PIC can produce discontinuities between adjacent cells. Also, in simulations, we often have a single DM particle with mass $\\gtrsim 10^6\\,M_{\\odot}$, so modeling all the mass as being concentrated at a single point is not ideal for estimating the overdensity.\n",
    "\n",
    "In this subsection, we will explore the Clouds-in-Cells (CIC) method for density estimation and compare it with PIC. The idea is, assume the mass is distributed in a square (for 2d) of the same size as the grid, and the mass can be attributed to at most 4 cells depending on how much the square overlap with the cells. In this way we can avoid the discontinuity and the point-mass problem.\n",
    "\n",
    "### Goal\n",
    "Make a plot comparing the CIC overdensities with a normal histogram for a Zel'dovich approximation at $a=0.05$ and $a=0.5$."
   ]
  },
  {
   "cell_type": "code",
   "execution_count": null,
   "id": "3280c34e",
   "metadata": {
    "tags": []
   },
   "outputs": [],
   "source": [
    "def cic_density(pos, mass=1., L=100., ngrid=128):\n",
    "    xred = (pos%L) / (L / ngrid)\n",
    "    ired = np.int64(np.floor(xred))\n",
    "    dx = xred - ired\n",
    "    rhogrid = 0.\n",
    "    \n",
    "    bins = np.arange(0, ngrid+1)\n",
    "    \n",
    "    for ix in (0,1):\n",
    "        for iy in (0,1):\n",
    "            weight = np.abs(1-ix-dx[...,0])*np.abs(1-iy-dx[...,1]) * mass\n",
    "            idep = (xred + np.array((ix, iy))) % ngrid\n",
    "            rhonew,_ = np.histogramdd(idep.reshape(-1,2), bins=(bins, bins), weights=weight.reshape(-1))\n",
    "            rhogrid += rhonew\n",
    "            \n",
    "    V = (L/ngrid)**2\n",
    "    \n",
    "    return rhogrid / V\n",
    "\n",
    "def histogram_density(pos, mass=1., L=100., ngrid=128):\n",
    "    V = (L/ngrid)**2\n",
    "    \n",
    "    bins = np.linspace(0, L, ngrid+1)\n",
    "    h,_ = np.histogramdd(pos.reshape(-1,2)%L, bins=(bins, bins), weights=mass*np.ones(pos.shape[:-1]).flatten())\n",
    "    return h / V"
   ]
  },
  {
   "cell_type": "code",
   "execution_count": null,
   "id": "90420721",
   "metadata": {
    "tags": []
   },
   "outputs": [],
   "source": [
    "aini = 0.1\n",
    "L = 100.\n",
    "myic = sim.ic.IC2DCosmo(128, sL=L, aic=aini, rs=0.5, vec3d=True, Omega_m=1.)\n",
    "pos = myic.get_x(a=0.05)"
   ]
  },
  {
   "cell_type": "code",
   "execution_count": null,
   "id": "47c24fc6",
   "metadata": {},
   "outputs": [],
   "source": []
  },
  {
   "cell_type": "markdown",
   "id": "b5e7cf37",
   "metadata": {},
   "source": [
    "### Target Output\n",
    "![title](solutions/img/nbody_cic_assignment.png)"
   ]
  },
  {
   "cell_type": "markdown",
   "id": "dd237489",
   "metadata": {},
   "source": [
    "## Force and Acceleration Field\n",
    "\n",
    "Now you have the overdensity field from CIC estimation, we can calculate the potential field and the acceleration field as demonstrated in the second notebook. \n",
    "\n",
    "**Note**: Don't normalize the density to the mean here since you need the actual $\\rho$ rather than the overdensity in the Possion's equation."
   ]
  },
  {
   "cell_type": "code",
   "execution_count": null,
   "id": "ddd096a5",
   "metadata": {
    "tags": []
   },
   "outputs": [],
   "source": [
    "def force_field(pos, mass=1., L=100., ngrid=128, G=1.):\n",
    "    #[...] fill this in\n",
    "    \n",
    "    return acc"
   ]
  },
  {
   "cell_type": "code",
   "execution_count": null,
   "id": "46efc08e",
   "metadata": {
    "tags": []
   },
   "outputs": [],
   "source": [
    "pos = myic.get_x(a=0.5)[...,0:2]\n",
    "acc_field = force_field(pos.reshape(-1,2), ngrid=256, mass=1., G=1.)\n",
    "print(pos.shape, acc_field.shape)"
   ]
  },
  {
   "cell_type": "markdown",
   "id": "f60b8c8e",
   "metadata": {},
   "source": [
    "### Should be:\n",
    "(128, 128, 2) (256, 256, 2)"
   ]
  },
  {
   "cell_type": "markdown",
   "id": "2f870044",
   "metadata": {},
   "source": [
    "# Interpolate the acceleration field\n",
    "\n",
    "Now you have the acceleration field calculated on grid cells, there is one more thing to consider. What we need to know is the accelaration at the particle positions rather than the cell center positions. Should two particles in the same grid cell have the same acceleration when one is at the very left of the cell while the other is at the very right? The answer is no, you should do a linear interpolation of the acceleration field to get the acceleration at arbituary positions. You can simply use `sim.sim.linear_interp2d()` for this. However, please have a look at the corresponding source code, so that you understand how the interpolation works\n",
    "\n",
    "Check that you get the same values as follows."
   ]
  },
  {
   "cell_type": "code",
   "execution_count": null,
   "id": "e796c74b",
   "metadata": {
    "tags": []
   },
   "outputs": [],
   "source": [
    "np.random.seed(42)\n",
    "xtest = np.random.uniform(0,L, (5,2))\n",
    "print(\"x=\", xtest)\n",
    "print(\"a=\",sim.sim.linear_interp2d(acc_field, xtest, L))"
   ]
  },
  {
   "cell_type": "markdown",
   "id": "336a1f1d",
   "metadata": {},
   "source": [
    "### Target Output:\n",
    "```\n",
    "x= [[37.45401188 95.07143064]\n",
    " [73.19939418 59.86584842]\n",
    " [15.60186404 15.59945203]\n",
    " [ 5.80836122 86.61761458]\n",
    " [60.11150117 70.80725778]]\n",
    "a= [[-38.08094163 -54.14098832]\n",
    " [-14.63374163  -2.98440725]\n",
    " [ 73.22377224   9.80425049]\n",
    " [ 17.33515223 -23.99716601]\n",
    " [ 14.38940225  55.56422635]]\n",
    "```"
   ]
  },
  {
   "cell_type": "markdown",
   "id": "4edd6f08",
   "metadata": {},
   "source": [
    "# Create a single function that takes the N-body positions and outputs the N-body forces"
   ]
  },
  {
   "cell_type": "code",
   "execution_count": null,
   "id": "9702d636",
   "metadata": {
    "tags": []
   },
   "outputs": [],
   "source": [
    "def nbody_forces(pos, mass=1., L=100., ngrid=128, G=1.):\n",
    "    #[...]\n",
    "    \n",
    "    return acc_at_pos"
   ]
  },
  {
   "cell_type": "code",
   "execution_count": null,
   "id": "cf9fbc32",
   "metadata": {
    "tags": []
   },
   "outputs": [],
   "source": [
    "pos = myic.get_x(a=0.5)[...,0:2]\n",
    "nbody_forces(pos, ngrid=256).shape"
   ]
  },
  {
   "cell_type": "markdown",
   "id": "00dd285c",
   "metadata": {},
   "source": [
    "### Should be:\n",
    "(128, 128, 2)"
   ]
  },
  {
   "cell_type": "markdown",
   "id": "14a3b283",
   "metadata": {},
   "source": [
    "## Make an N-body simulation\n",
    "\n",
    "We have to integrate the equations of motion\n",
    "\n",
    "\\begin{align}\n",
    "  \\frac{d\\vec{x}}{da} &= \\frac{1}{a^3 H(a)} \\vec{v}\\\\\n",
    "  \\frac{d\\vec{v}}{da} &= \\frac{1}{a^2 H(a)} \\vec{a}\n",
    "\\end{align}\n",
    "where the vector $\\vec{a}$  is the acceleration (the scalar $a$ is the scale factor), $\\vec{v}$ the velocity and $\\vec{x}$ the position of the particles. These are all given in comoving space, we can discuss this later. H(a) is the Hubble function which in our case (Einstein-de-Sitter universe) is given by\n",
    "\\begin{align}\n",
    "  H(a) &= 100 a^{3/2}\n",
    "\\end{align}\n",
    "(units $[h\\,\\, \\mathrm{km/s/Mpc}]$)\n",
    "\n",
    "To get all the units right, it is important that you pass the masses to the CIC assignment. Further, you need to use \n",
    "\\begin{align}\n",
    "  G=43.0071057317063e-10\n",
    "\\end{align}\n",
    "which is the Gravitational constant when using units of $[\\mathrm{Mpc}^3\\mathrm{(km/s)}^2\\mathrm{M_\\odot}^{-1}]$.\n",
    "\n",
    "Also don't for get to wrap all positions between [0, L] after each step (periodic boundary conditions!!) you can do this by setting\n",
    "pos = pos % L\n",
    "\n",
    "### Setup:\n",
    "start at $a=0.05$, use steps of size $da=0.01$, use a Euler integrator, and ngrid=256 for the force calculation. Plot the particle distribution at the epoch given in the following figures to make comparisons."
   ]
  },
  {
   "cell_type": "code",
   "execution_count": null,
   "id": "629c1525",
   "metadata": {
    "tags": []
   },
   "outputs": [],
   "source": [
    "L = 100.\n",
    "myic = sim.ic.IC2DCosmo(128, L=L, rs=0.5, vec3d=True, Omega_m=1.)\n",
    "pos,vel, mass = myic.get_particles(a = 0.05)  \n",
    "pos, vel = pos[...,0:2], vel[...,0:2]\n",
    "\n",
    "output_steps = [0,5,25,55,95]\n",
    "a = 0.05\n",
    "i, da = 0, 0.01"
   ]
  },
  {
   "cell_type": "code",
   "execution_count": null,
   "id": "ff4bef51",
   "metadata": {
    "tags": []
   },
   "outputs": [],
   "source": [
    "output_steps = [0,5,25,55,95]\n",
    "a = aini\n",
    "i, da = 0, 0.01\n",
    "while a <= 1.01:\n",
    "    if i in output_steps:\n",
    "        # [...] add plotting code\n",
    "        \n",
    "    # [...] Add numerical integrator\n",
    "    \n",
    "    a += da\n",
    "    i += 1"
   ]
  },
  {
   "cell_type": "markdown",
   "id": "98e7f64f",
   "metadata": {},
   "source": [
    "### Example Output\n",
    "![title](solutions/img/nbody_a0.05.png)\n",
    "![title](solutions/img/nbody_a0.10.png)\n",
    "![title](solutions/img/nbody_a0.30.png)\n",
    "![title](solutions/img/nbody_a0.60.png)\n",
    "![title](solutions/img/nbody_a1.00.png)"
   ]
  },
  {
   "cell_type": "code",
   "execution_count": null,
   "id": "c25f4b2b",
   "metadata": {},
   "outputs": [],
   "source": []
  }
 ],
 "metadata": {
  "kernelspec": {
   "display_name": "Python 3",
   "language": "python",
   "name": "python3"
  },
  "language_info": {
   "codemirror_mode": {
    "name": "ipython",
    "version": 3
   },
   "file_extension": ".py",
   "mimetype": "text/x-python",
   "name": "python",
   "nbconvert_exporter": "python",
   "pygments_lexer": "ipython3",
   "version": "3.11.13"
  }
 },
 "nbformat": 4,
 "nbformat_minor": 5
}
